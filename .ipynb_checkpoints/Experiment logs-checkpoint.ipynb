{
 "cells": [
  {
   "cell_type": "markdown",
   "id": "guided-reasoning",
   "metadata": {},
   "source": [
    "## Experiment Logs. \n",
    "\n",
    "Difficulties faced and their solutions"
   ]
  },
  {
   "cell_type": "markdown",
   "id": "french-boundary",
   "metadata": {},
   "source": [
    "### 1. Do we need to have images in profile section?"
   ]
  },
  {
   "cell_type": "markdown",
   "id": "several-barrier",
   "metadata": {},
   "source": [
    "For profile section I initially thought to have some profile images for a user but \n",
    "heroku needs third party apps for hosting dynamic images on the webserver. These services are included in paid version\n",
    "so it was not possible for me to add dynamic images on the heroku server. \n",
    "\n",
    "Then I thought of adding static image for profile page that would look something like this:-"
   ]
  },
  {
   "cell_type": "markdown",
   "id": "static-retrieval",
   "metadata": {},
   "source": [
    "<img src=\"static/users/images/images.png\" width=\"70\" height=\"180\"/>"
   ]
  },
  {
   "cell_type": "markdown",
   "id": "white-reduction",
   "metadata": {},
   "source": [
    "Adding static images for the profile page is not recommended nowadays."
   ]
  },
  {
   "cell_type": "code",
   "execution_count": null,
   "id": "ready-jewelry",
   "metadata": {},
   "outputs": [],
   "source": []
  },
  {
   "cell_type": "markdown",
   "id": "protective-declaration",
   "metadata": {},
   "source": [
    "### 2. Do we need profileview page?"
   ]
  },
  {
   "cell_type": "markdown",
   "id": "exposed-planning",
   "metadata": {},
   "source": [
    "Since there was no image for the user profile and nothing really required for profile page to display\n",
    "I dropped this idea and links like password change were also added on homepage after login rather than on new\n",
    "profile page"
   ]
  },
  {
   "cell_type": "code",
   "execution_count": null,
   "id": "adjusted-behavior",
   "metadata": {},
   "outputs": [],
   "source": []
  },
  {
   "cell_type": "markdown",
   "id": "unnecessary-april",
   "metadata": {},
   "source": [
    "### 3. Password reset was done only for localhost server."
   ]
  },
  {
   "cell_type": "markdown",
   "id": "fallen-permit",
   "metadata": {},
   "source": [
    "When a user wanted to reset his/her password, ideal condition would be he should receive an email for password reset\n",
    "link.But for localhost the email body was being displayed only in the terminal section."
   ]
  },
  {
   "cell_type": "markdown",
   "id": "knowing-tournament",
   "metadata": {},
   "source": [
    "<img src=\"static/users/images/password_terminal.png\"/>"
   ]
  },
  {
   "cell_type": "markdown",
   "id": "metropolitan-gibraltar",
   "metadata": {},
   "source": [
    "So after researching about this issue it was figured that these changes were needed to be done in settings.py file"
   ]
  },
  {
   "cell_type": "markdown",
   "id": "solid-charge",
   "metadata": {},
   "source": [
    "<img src=\"static/users/images/email_changes.png\"/>"
   ]
  },
  {
   "cell_type": "code",
   "execution_count": null,
   "id": "norwegian-cradle",
   "metadata": {},
   "outputs": [],
   "source": []
  },
  {
   "cell_type": "markdown",
   "id": "sapphire-selling",
   "metadata": {},
   "source": [
    "### 4. For password reset which email should be used for sending password reset link?"
   ]
  },
  {
   "cell_type": "markdown",
   "id": "proved-coaching",
   "metadata": {},
   "source": [
    "It would have looked unprofessional if random email Ids' were used for password reset.\n",
    "So I registered with a new email ID with name of midas (only for this purpose).We can see the email is modified in the above screenshot.\n",
    "Also for using smtp backend, Account settings(for MidasLabsIIITD) had to be configured to generate a password that can be used only with the heroku app deployed by us."
   ]
  },
  {
   "cell_type": "code",
   "execution_count": null,
   "id": "quick-offer",
   "metadata": {},
   "outputs": [],
   "source": []
  },
  {
   "cell_type": "markdown",
   "id": "improving-distributor",
   "metadata": {},
   "source": [
    "### 5. While deployment secret key and email passwords should be hidden as the can be easily seen on github repo"
   ]
  },
  {
   "cell_type": "markdown",
   "id": "preceding-composite",
   "metadata": {},
   "source": [
    "To address this issue python decouple library was used, that helps us to use this passwords privately using config variable and the file containing the passwords can be git ignored by using the following commmands:-"
   ]
  },
  {
   "cell_type": "markdown",
   "id": "generic-inside",
   "metadata": {},
   "source": [
    "SECRET_KEY = config('SECRET_KEY')\n",
    "EMAIL_HOST_PASSWORD = config('PASSWORD')"
   ]
  },
  {
   "cell_type": "code",
   "execution_count": null,
   "id": "retired-lawyer",
   "metadata": {},
   "outputs": [],
   "source": []
  },
  {
   "cell_type": "markdown",
   "id": "finnish-regard",
   "metadata": {},
   "source": [
    "### 6. Finding exact images for carousal"
   ]
  },
  {
   "cell_type": "markdown",
   "id": "tropical-figure",
   "metadata": {},
   "source": [
    "I couldn't find exact images for the image slider on the main page so i used some different images but with same theme.  "
   ]
  },
  {
   "cell_type": "code",
   "execution_count": null,
   "id": "treated-player",
   "metadata": {},
   "outputs": [],
   "source": []
  },
  {
   "cell_type": "markdown",
   "id": "israeli-silver",
   "metadata": {},
   "source": [
    "### 7. Finding exact shape for blob image"
   ]
  },
  {
   "cell_type": "markdown",
   "id": "visible-float",
   "metadata": {},
   "source": [
    "Firstly I was not able to identify what kind of image it was (the blob image) , I searched for a long time on the net for irregular circular images but all in vain. Then I got to know this type of image is known as blob. So I started creating some blobs through online tools but i couldn't find the exact same blob. Then I took the blob shape from 'design.png' file and edited it using some editting tools to get almost the exact same image."
   ]
  },
  {
   "cell_type": "code",
   "execution_count": null,
   "id": "disturbed-breakdown",
   "metadata": {},
   "outputs": [],
   "source": []
  },
  {
   "cell_type": "markdown",
   "id": "peaceful-modern",
   "metadata": {},
   "source": [
    "### 8. Editting the blob image for perfect boundaries"
   ]
  },
  {
   "cell_type": "markdown",
   "id": "desirable-spotlight",
   "metadata": {},
   "source": [
    "Even after editting the blob image on paint the boundaries were not in good shape. So I download a tool call Krita of handling the boundaires and adding the gradient on the image"
   ]
  },
  {
   "cell_type": "markdown",
   "id": "exciting-weight",
   "metadata": {},
   "source": [
    "<img src=\"static/users/images/krita.png\" width=300 height=300/>"
   ]
  },
  {
   "cell_type": "code",
   "execution_count": null,
   "id": "incorrect-implement",
   "metadata": {},
   "outputs": [],
   "source": []
  },
  {
   "cell_type": "markdown",
   "id": "every-newspaper",
   "metadata": {},
   "source": [
    "### 9. Login sign shows up even if logged in"
   ]
  },
  {
   "cell_type": "markdown",
   "id": "green-insurance",
   "metadata": {},
   "source": [
    "Even if we are logged in the login sign was shown that didn't look correct (login sign should be shown only if you are logged out). So I used python if else loop on user.is _authenticated(). This also helped me to show change password options only when logged in and register option only when logged out "
   ]
  },
  {
   "cell_type": "code",
   "execution_count": null,
   "id": "economic-fifth",
   "metadata": {},
   "outputs": [],
   "source": [
    "{% if user.is _authenticated %}\n",
    "#     some code here\n",
    "{% else %}\n",
    "#     some more code\n",
    "{% endif %}"
   ]
  },
  {
   "cell_type": "code",
   "execution_count": null,
   "id": "first-blind",
   "metadata": {},
   "outputs": [],
   "source": []
  },
  {
   "cell_type": "markdown",
   "id": "light-metadata",
   "metadata": {},
   "source": [
    "### 10. Logout redirected to a new page where no important information was displayed"
   ]
  },
  {
   "cell_type": "markdown",
   "id": "colored-final",
   "metadata": {},
   "source": [
    "To address this issue i simply changed LOGOUT_REDIRECT_URL in settings.py file"
   ]
  },
  {
   "cell_type": "markdown",
   "id": "saved-phase",
   "metadata": {},
   "source": [
    "<img src=\"static/users/images/logout_redirect.png\"/>"
   ]
  },
  {
   "cell_type": "markdown",
   "id": "durable-bosnia",
   "metadata": {},
   "source": [
    "Now the logout redirects to home page."
   ]
  },
  {
   "cell_type": "code",
   "execution_count": null,
   "id": "authorized-fault",
   "metadata": {},
   "outputs": [],
   "source": []
  },
  {
   "cell_type": "markdown",
   "id": "consistent-movie",
   "metadata": {},
   "source": [
    "### 11. What things can only be accessed by an authorised used?"
   ]
  },
  {
   "cell_type": "markdown",
   "id": "protected-posting",
   "metadata": {},
   "source": [
    "Apart from change password option there was nothing that was shown exclusively to authorised user alone . So just to give authorised useer more advantage I provided a link to midas task docs file only if user is authenticated. "
   ]
  },
  {
   "cell_type": "markdown",
   "id": "metallic-hotel",
   "metadata": {},
   "source": [
    "For unauthorised user:-"
   ]
  },
  {
   "cell_type": "markdown",
   "id": "stylish-terrace",
   "metadata": {},
   "source": [
    "<img src=\"static/users/images/login_link.png\"/>"
   ]
  },
  {
   "cell_type": "markdown",
   "id": "adult-employment",
   "metadata": {},
   "source": [
    "For authorised user:-"
   ]
  },
  {
   "cell_type": "markdown",
   "id": "preceding-stanford",
   "metadata": {},
   "source": [
    "<img src=\"static/users/images/file_link.png\"/>"
   ]
  },
  {
   "cell_type": "code",
   "execution_count": null,
   "id": "cleared-native",
   "metadata": {},
   "outputs": [],
   "source": []
  },
  {
   "cell_type": "markdown",
   "id": "arranged-blame",
   "metadata": {},
   "source": [
    "### 12. What is the paper section in the design image? "
   ]
  },
  {
   "cell_type": "markdown",
   "id": "contained-plasma",
   "metadata": {},
   "source": [
    "For the design given in this link(https://drive.google.com/file/d/1QtCQzFwC7LpUElp58gRCrvpZ7GpY-X5a/view) ,I was not able to find what would papers section include, so I opened up midas website to find what actually was there on papers section. There were research papers given by IIITD professors in that section. So in my website I only included the links to those research papers."
   ]
  },
  {
   "cell_type": "markdown",
   "id": "center-suite",
   "metadata": {},
   "source": [
    "In my website this page is as follows:-"
   ]
  },
  {
   "cell_type": "markdown",
   "id": "serious-atlantic",
   "metadata": {},
   "source": [
    "<img src=\"static/users/images/papers.png\"/>"
   ]
  },
  {
   "cell_type": "markdown",
   "id": "ready-second",
   "metadata": {},
   "source": [
    "And on opening any of the link we will be redirected to original MIDASIIITD LABS website page:-"
   ]
  },
  {
   "cell_type": "markdown",
   "id": "consistent-found",
   "metadata": {},
   "source": [
    "<img src=\"static/users/images/papers_open.png\"/>"
   ]
  },
  {
   "cell_type": "code",
   "execution_count": null,
   "id": "incorporate-vision",
   "metadata": {},
   "outputs": [],
   "source": []
  },
  {
   "cell_type": "markdown",
   "id": "sitting-shannon",
   "metadata": {},
   "source": [
    "### 13. Search bar not working"
   ]
  },
  {
   "cell_type": "markdown",
   "id": "acceptable-physics",
   "metadata": {},
   "source": [
    "Initially no search functionality was added , then i gave some ids to some important part of the page and redirected if that id name was entered in the search input of the page like:- summer,midas,contacts etc."
   ]
  },
  {
   "cell_type": "markdown",
   "id": "unavailable-underwear",
   "metadata": {},
   "source": [
    "<img src=\"static/users/images/search.png\"/>"
   ]
  },
  {
   "cell_type": "code",
   "execution_count": null,
   "id": "satisfied-romance",
   "metadata": {},
   "outputs": [],
   "source": []
  },
  {
   "cell_type": "markdown",
   "id": "subjective-district",
   "metadata": {},
   "source": [
    "### 14. Alignement and design flaws"
   ]
  },
  {
   "cell_type": "markdown",
   "id": "friendly-italy",
   "metadata": {},
   "source": [
    "When I added the project on deployment there were several alignment issues that have been resolved."
   ]
  },
  {
   "cell_type": "code",
   "execution_count": null,
   "id": "revised-reach",
   "metadata": {},
   "outputs": [],
   "source": []
  },
  {
   "cell_type": "markdown",
   "id": "controversial-childhood",
   "metadata": {},
   "source": [
    "### 15. Blob image is not shown on localhost server"
   ]
  },
  {
   "cell_type": "markdown",
   "id": "sporting-juice",
   "metadata": {},
   "source": [
    "Blob image is not being shown on the localhost server, everything is checked again and again but no flaws found whatsoever.\n",
    "This flaw is not in <b> Deployed App </b>. So at last it was just a glitch"
   ]
  },
  {
   "cell_type": "code",
   "execution_count": null,
   "id": "constitutional-pharmacy",
   "metadata": {},
   "outputs": [],
   "source": []
  },
  {
   "cell_type": "code",
   "execution_count": null,
   "id": "atmospheric-scanner",
   "metadata": {},
   "outputs": [],
   "source": []
  }
 ],
 "metadata": {
  "kernelspec": {
   "display_name": "Python 3",
   "language": "python",
   "name": "python3"
  },
  "language_info": {
   "codemirror_mode": {
    "name": "ipython",
    "version": 3
   },
   "file_extension": ".py",
   "mimetype": "text/x-python",
   "name": "python",
   "nbconvert_exporter": "python",
   "pygments_lexer": "ipython3",
   "version": "3.7.1"
  }
 },
 "nbformat": 4,
 "nbformat_minor": 5
}
