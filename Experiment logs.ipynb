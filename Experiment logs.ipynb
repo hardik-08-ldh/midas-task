{
 "cells": [
  {
   "cell_type": "markdown",
   "id": "disciplinary-trading",
   "metadata": {},
   "source": [
    "## Experiment Logs. \n",
    "\n",
    "Difficulties faced and their solutions"
   ]
  },
  {
   "cell_type": "markdown",
   "id": "ambient-horror",
   "metadata": {},
   "source": [
    "### 1. Do we need to have images in profile section?"
   ]
  },
  {
   "cell_type": "markdown",
   "id": "caroline-substance",
   "metadata": {},
   "source": [
    "For profile section I initially thought to have some profile images for a user but \n",
    "heroku need third party apps for  hosting dynamic images on the webserver which require some money for those services\n",
    "so i didn't add any dynamic images. Then I thought should i add static image for profile page that would look something\n",
    "like this:-"
   ]
  },
  {
   "cell_type": "markdown",
   "id": "short-prefix",
   "metadata": {},
   "source": [
    "<img src=\"static/users/images/images.png\" width=\"70\" height=\"180\"/>"
   ]
  },
  {
   "cell_type": "markdown",
   "id": "different-skirt",
   "metadata": {},
   "source": [
    "but then i thought everyone might want to edit this image so i dropped this idea too."
   ]
  },
  {
   "cell_type": "code",
   "execution_count": null,
   "id": "removable-personal",
   "metadata": {},
   "outputs": [],
   "source": []
  },
  {
   "cell_type": "markdown",
   "id": "charitable-street",
   "metadata": {},
   "source": [
    "### 2. Do we need profileview page?"
   ]
  },
  {
   "cell_type": "markdown",
   "id": "agreed-anthony",
   "metadata": {},
   "source": [
    "Since there was no image for the user profile and nothing really required for profile page to display\n",
    "I dropped this idea and links like password change were also added on homepage after login rather than on new\n",
    "profile page"
   ]
  },
  {
   "cell_type": "code",
   "execution_count": null,
   "id": "solved-department",
   "metadata": {},
   "outputs": [],
   "source": []
  },
  {
   "cell_type": "markdown",
   "id": "facial-french",
   "metadata": {},
   "source": [
    "### 3. Password reset was done only for localhost server."
   ]
  },
  {
   "cell_type": "markdown",
   "id": "temporal-manhattan",
   "metadata": {},
   "source": [
    "When a user wanted to reset his/her password, ideal condition would be he should receive an email for password reset\n",
    "link. but for localhost the email body was being displayed only in the terminal section of local hosting\n",
    "like this:-"
   ]
  },
  {
   "cell_type": "markdown",
   "id": "narrative-pound",
   "metadata": {},
   "source": [
    "<img src=\"static/users/images/password_terminal.png\"/>"
   ]
  },
  {
   "cell_type": "markdown",
   "id": "aware-insulation",
   "metadata": {},
   "source": [
    "So I checked the internet for resolving this issue and i came up with these changes in settings.py file"
   ]
  },
  {
   "cell_type": "markdown",
   "id": "disciplinary-omaha",
   "metadata": {},
   "source": [
    "<img src=\"static/users/images/email_changes.png\"/>"
   ]
  },
  {
   "cell_type": "code",
   "execution_count": null,
   "id": "iraqi-courage",
   "metadata": {},
   "outputs": [],
   "source": []
  },
  {
   "cell_type": "markdown",
   "id": "adaptive-hollywood",
   "metadata": {},
   "source": [
    "### 4. For password reset which email should be used for sending password reset link?"
   ]
  },
  {
   "cell_type": "markdown",
   "id": "historical-adolescent",
   "metadata": {},
   "source": [
    "It would have looked unprofessional if i had used some random email Id for resetting passwords.\n",
    "So i registered with a new email ID with name of midas (only for this purpose).We can see the email changes in the screenshot\n",
    "above. Also for using smtp backend i had to configure midaslabsiiitd email id to generate a password that can be used only with the heroku app we have deployed"
   ]
  },
  {
   "cell_type": "code",
   "execution_count": null,
   "id": "spiritual-fireplace",
   "metadata": {},
   "outputs": [],
   "source": []
  },
  {
   "cell_type": "markdown",
   "id": "obvious-creator",
   "metadata": {},
   "source": [
    "### 5. While deployment secret key and email passwords should be hidden as the can be easily seen on github repo"
   ]
  },
  {
   "cell_type": "markdown",
   "id": "recognized-parcel",
   "metadata": {},
   "source": [
    "To address this issue i used python decouple library that helps us to use this passwords privately using config variable and the real file containing the passwords can be git ignored like this:-"
   ]
  },
  {
   "cell_type": "markdown",
   "id": "loose-ambassador",
   "metadata": {},
   "source": [
    "SECRET_KEY = config('SECRET_KEY')\n",
    "EMAIL_HOST_PASSWORD = config('PASSWORD')"
   ]
  },
  {
   "cell_type": "code",
   "execution_count": null,
   "id": "younger-weather",
   "metadata": {},
   "outputs": [],
   "source": []
  },
  {
   "cell_type": "markdown",
   "id": "mature-drill",
   "metadata": {},
   "source": [
    "### 6. Finding exact images for carousal"
   ]
  },
  {
   "cell_type": "markdown",
   "id": "enclosed-nickname",
   "metadata": {},
   "source": [
    "I couldn't find exact images for the image slider on the main page so i used some different images but with same theme.  "
   ]
  },
  {
   "cell_type": "code",
   "execution_count": null,
   "id": "moved-senegal",
   "metadata": {},
   "outputs": [],
   "source": []
  },
  {
   "cell_type": "markdown",
   "id": "southern-accident",
   "metadata": {},
   "source": [
    "### 7. Finding exact shape for blob image"
   ]
  },
  {
   "cell_type": "code",
   "execution_count": null,
   "id": "powered-produce",
   "metadata": {},
   "outputs": [],
   "source": []
  },
  {
   "cell_type": "code",
   "execution_count": null,
   "id": "viral-causing",
   "metadata": {},
   "outputs": [],
   "source": []
  },
  {
   "cell_type": "code",
   "execution_count": null,
   "id": "amino-maldives",
   "metadata": {},
   "outputs": [],
   "source": []
  },
  {
   "cell_type": "code",
   "execution_count": null,
   "id": "educational-helicopter",
   "metadata": {},
   "outputs": [],
   "source": []
  },
  {
   "cell_type": "code",
   "execution_count": null,
   "id": "moderate-consensus",
   "metadata": {},
   "outputs": [],
   "source": []
  },
  {
   "cell_type": "code",
   "execution_count": null,
   "id": "meaningful-toddler",
   "metadata": {},
   "outputs": [],
   "source": []
  },
  {
   "cell_type": "code",
   "execution_count": null,
   "id": "southeast-overhead",
   "metadata": {},
   "outputs": [],
   "source": []
  },
  {
   "cell_type": "code",
   "execution_count": null,
   "id": "proud-weight",
   "metadata": {},
   "outputs": [],
   "source": []
  },
  {
   "cell_type": "code",
   "execution_count": null,
   "id": "hidden-fashion",
   "metadata": {},
   "outputs": [],
   "source": []
  }
 ],
 "metadata": {
  "kernelspec": {
   "display_name": "Python 3",
   "language": "python",
   "name": "python3"
  },
  "language_info": {
   "codemirror_mode": {
    "name": "ipython",
    "version": 3
   },
   "file_extension": ".py",
   "mimetype": "text/x-python",
   "name": "python",
   "nbconvert_exporter": "python",
   "pygments_lexer": "ipython3",
   "version": "3.7.1"
  }
 },
 "nbformat": 4,
 "nbformat_minor": 5
}
